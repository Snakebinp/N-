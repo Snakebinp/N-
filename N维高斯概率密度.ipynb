{
 "cells": [
  {
   "cell_type": "code",
   "execution_count": 2,
   "metadata": {},
   "outputs": [],
   "source": [
    "import pyforest\n",
    "from mpl_toolkits.mplot3d import Axes3D\n",
    "%matplotlib qt5\n",
    "\n",
    "def P(data:list,mu,sigma2):\n",
    "    # data:[x1,x2,x3...]\n",
    "    # x1是一个N×N的矩阵，代表N个样本在x1维度的\n",
    "    # 目前这个P函数的意义仅限于可以同时计算出二维和三维的概率密度\n",
    "    N = len(data)\n",
    "    temp = np.zeros(data[0].shape)\n",
    "    for xi in data:\n",
    "        temp += (xi-mu)**2\n",
    "    print(temp.shape)\n",
    "    P = 1/(2*np.pi*sigma2)**(N/2) * np.exp(-1/(2*sigma2) * temp)\n",
    "    return P"
   ]
  },
  {
   "cell_type": "code",
   "execution_count": null,
   "metadata": {},
   "outputs": [],
   "source": [
    "#下面画一下二维高斯分布\n",
    "x = np.linspace(-5,5,100)\n",
    "sigma2 =1\n",
    "mu = 0\n",
    "Z = P([x],mu,sigma2)\n",
    "plt.plot(x,Z)"
   ]
  },
  {
   "cell_type": "code",
   "execution_count": null,
   "metadata": {},
   "outputs": [],
   "source": [
    "#下面画一下三维高斯分布\n",
    "x = np.linspace(-3, 3, 100)\n",
    "y = np.linspace(-3, 3, 100)\n",
    "data = np.meshgrid(x, y)\n",
    "sigma2 = 1\n",
    "mu = 0\n",
    "Z = P(data,mu,sigma2)\n",
    "fig = plt.figure()\n",
    "ax = Axes3D(fig)\n",
    "ax.plot_surface(data[0],data[1], Z, cmap='jet')"
   ]
  }
 ],
 "metadata": {
  "interpreter": {
   "hash": "c9072fd1107ebe2d9a2f9682175f2823cc65fd4df0a244f9c77377415a1676a2"
  },
  "kernelspec": {
   "display_name": "Python 3.9.7 ('base')",
   "language": "python",
   "name": "python3"
  },
  "language_info": {
   "codemirror_mode": {
    "name": "ipython",
    "version": 3
   },
   "file_extension": ".py",
   "mimetype": "text/x-python",
   "name": "python",
   "nbconvert_exporter": "python",
   "pygments_lexer": "ipython3",
   "version": "3.9.7"
  },
  "orig_nbformat": 4
 },
 "nbformat": 4,
 "nbformat_minor": 2
}
